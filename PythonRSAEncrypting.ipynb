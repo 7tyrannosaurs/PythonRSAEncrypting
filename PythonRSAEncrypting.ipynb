{
 "cells": [
  {
   "cell_type": "code",
   "execution_count": null,
   "metadata": {},
   "outputs": [],
   "source": [
    "#Генерируем пару ключей public / private"
   ]
  },
  {
   "cell_type": "code",
   "execution_count": 47,
   "metadata": {},
   "outputs": [],
   "source": [
    "from Cryptodome.PublicKey import RSA\n",
    " \n",
    "code = 'codeword'\n",
    "key = RSA.generate(2048)\n",
    " \n",
    "encrypted_key = key.exportKey(\n",
    "    passphrase=code, \n",
    "    pkcs=8,\n",
    "    protection=\"scryptAndAES128-CBC\"\n",
    ")\n",
    " \n",
    "with open('my_private_rsa_key.txt', 'wb') as f:\n",
    "    f.write(encrypted_key)\n",
    "\n",
    "with open('my_public_rsa_key.txt', 'wb') as f:\n",
    "    f.write(key.publickey().exportKey())"
   ]
  },
  {
   "cell_type": "code",
   "execution_count": null,
   "metadata": {},
   "outputs": [],
   "source": [
    "#Шифруем наши данные и записываем все в отдельный файл"
   ]
  },
  {
   "cell_type": "code",
   "execution_count": 48,
   "metadata": {},
   "outputs": [],
   "source": [
    "from Cryptodome.PublicKey import RSA\n",
    "from Cryptodome.Random import get_random_bytes\n",
    "from Cryptodome.Cipher import AES, PKCS1_OAEP\n",
    " \n",
    "\n",
    "with open('encrypted_data.txt', 'wb') as out_file:\n",
    "    recipient_key = RSA.importKey(\n",
    "        open('my_public_rsa_key.txt').read()\n",
    "    )\n",
    "    \n",
    "    session_key = get_random_bytes(16)\n",
    "    \n",
    "    cipher_rsa = PKCS1_OAEP.new(recipient_key)\n",
    "    out_file.write(cipher_rsa.encrypt(session_key))\n",
    "    \n",
    "    cipher_aes = AES.new(session_key, AES.MODE_EAX)\n",
    "    data = b'Cryptography Race Test'\n",
    "    ciphertext, tag = cipher_aes.encrypt_and_digest(data)\n",
    "    \n",
    "    out_file.write(cipher_aes.nonce)\n",
    "    out_file.write(tag)\n",
    "    out_file.write(ciphertext)"
   ]
  },
  {
   "cell_type": "code",
   "execution_count": null,
   "metadata": {},
   "outputs": [],
   "source": [
    "#Расшифровываем наши данные, выводим их в отдельный файл и на экран"
   ]
  },
  {
   "cell_type": "code",
   "execution_count": 49,
   "metadata": {},
   "outputs": [
    {
     "name": "stdout",
     "output_type": "stream",
     "text": [
      "b'Cryptography Race Test'\n"
     ]
    }
   ],
   "source": [
    "from Cryptodome.PublicKey import RSA\n",
    "from Cryptodome.Cipher import AES, PKCS1_OAEP\n",
    " \n",
    "\n",
    "code = 'codeword'\n",
    " \n",
    "with open('encrypted_data.txt', 'rb') as fobj:\n",
    "    private_key = RSA.import_key(\n",
    "        open('my_private_rsa_key.txt').read(),\n",
    "        passphrase=code\n",
    "    )\n",
    "    \n",
    "    enc_session_key, nonce, tag, ciphertext = [\n",
    "        fobj.read(x) for x in (private_key.size_in_bytes(), 16, 16, -1)\n",
    "    ]\n",
    "    \n",
    "    cipher_rsa = PKCS1_OAEP.new(private_key)\n",
    "    session_key = cipher_rsa.decrypt(enc_session_key)\n",
    "    \n",
    "    cipher_aes = AES.new(session_key, AES.MODE_EAX, nonce)\n",
    "    data = cipher_aes.decrypt_and_verify(ciphertext, tag)\n",
    "\n",
    "print(data)\n",
    "\n",
    "with open('data.txt', 'wb') as f:\n",
    "    f.write(data)"
   ]
  }
 ],
 "metadata": {
  "kernelspec": {
   "display_name": "Python 3",
   "language": "python",
   "name": "python3"
  },
  "language_info": {
   "codemirror_mode": {
    "name": "ipython",
    "version": 3
   },
   "file_extension": ".py",
   "mimetype": "text/x-python",
   "name": "python",
   "nbconvert_exporter": "python",
   "pygments_lexer": "ipython3",
   "version": "3.6.4"
  }
 },
 "nbformat": 4,
 "nbformat_minor": 2
}
